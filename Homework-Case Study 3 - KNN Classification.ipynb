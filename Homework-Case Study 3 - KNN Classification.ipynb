{
 "cells": [
  {
   "cell_type": "markdown",
   "metadata": {},
   "source": [
    "# Using Python for Research Homework: Week 3, Case Study 3\n",
    "\n",
    "In this case study, we will analyze a dataset consisting of an assortment of wines classified as \"high quality\" and \"low quality\" and will use k-Nearest Neighbors classification to determine whether or not other information about the wine helps us correctly guess whether a new wine will be of high quality."
   ]
  },
  {
   "cell_type": "code",
   "execution_count": null,
   "metadata": {},
   "outputs": [],
   "source": [
    "import numpy as np, random, scipy.stats as ss\n",
    "\n",
    "def majority_vote_fast(votes):\n",
    "    mode, count = ss.mstats.mode(votes)\n",
    "    return mode\n",
    "\n",
    "def distance(p1, p2):\n",
    "    return np.sqrt(np.sum(np.power(p2 - p1, 2)))\n",
    "\n",
    "def find_nearest_neighbors(p, points, k=5):\n",
    "    distances = np.zeros(points.shape[0])\n",
    "    for i in range(len(distances)):\n",
    "        distances[i] = distance(p, points[i])\n",
    "    ind = np.argsort(distances)\n",
    "    return ind[:k]\n",
    "\n",
    "def knn_predict(p, points, outcomes, k=5):\n",
    "    ind = find_nearest_neighbors(p, points, k)\n",
    "    return majority_vote_fast(outcomes[ind])[0]"
   ]
  },
  {
   "cell_type": "code",
   "execution_count": null,
   "metadata": {},
   "outputs": [],
   "source": [
    "import numpy as np\n",
    "import random\n",
    "\n",
    "############################################################################\n",
    "\n",
    "def distance(p1,p2):\n",
    "    \"\"\" Find the distance between two points P1 and P2\"\"\"\n",
    "    return np.sqrt(np.sum((np.power(p1 - p2, 2))))\n",
    "\n",
    "############################################################################\n",
    "\n",
    "def majority_vote(votes):\n",
    "    \"\"\" Return the most common element in the vote \"\"\"\n",
    "    vote_counts = {}\n",
    "    for vote in votes:\n",
    "        if vote in vote_counts:\n",
    "            vote_counts[vote] += 1\n",
    "        else:\n",
    "            vote_counts[vote] = 1\n",
    "    winners =[]\n",
    "    max_count = max(vote_counts.values())\n",
    "    for vote, count in vote_counts.items():\n",
    "        if count == max_count:\n",
    "            winners.append(vote)\n",
    "    return random.choice(winners)\n",
    "\n",
    "\n",
    "#points = np.array([[1,1],[1,2],[1,3],[2,1],[2,2],[2,3],[3,1],[3,2],[3,3]])\n",
    "\n",
    "############################################################################\n",
    "\n",
    "def find_nearest_neighbors(p,points,k=5):\n",
    "    \"\"\" Find the k nearest neighbors of p and return their indices\"\"\"\n",
    "    distances = np.zeros(points.shape[0])\n",
    "    for i in range(len(distances)):            #loop over all points\n",
    "        distances[i] = distance(p,points[i])   #compute the distance point p and every other point\n",
    "    ind = np.argsort(distances)      # sort distance amd return those k points that are nearest to point p\n",
    "    return ind[:k]\n",
    "\n",
    "############################################################################\n",
    "\n",
    "def knn_predict(p,points,outcomes,k=5):\n",
    "    # find k nearest neighbors\n",
    "    ind = find_nearest_neighbors(p,points,k)\n",
    "    # predict the class of p based on majority vote\n",
    "    return majority_vote(outcomes[ind])\n",
    "\n",
    "#outcomes = np.array([0,0,0,0,1,1,1,1,1])\n",
    "#len(outcomes) # must match with points\n",
    "#knn_predict(np.array([2.5, 2.7]),points,outcomes,k=2)\n",
    "\n",
    "############################################################################\n",
    "\n",
    "def generate_synth_data(n=50):\n",
    "    \"\"\"  Create two sets of points from bivariate normal distributions. \"\"\"\n",
    "    points = np.concatenate((ss.norm(0,1).rvs((n,2)), ss.norm(1,1).rvs((n,2))))\n",
    "    outcomes = np.concatenate ((np.repeat(0,n), np.repeat(1,n)))\n",
    "    return (points, outcomes)\n",
    "\n",
    "############################################################################\n",
    "\n",
    "def make_prediction_grid(predictors, outcomes, limits, h, k):\n",
    "    \"\"\" Classify each point on the prediction grid. \"\"\"\n",
    "    (x_min, x_max, y_min, y_max) = limits\n",
    "    xs = np.arange(x_min, x_max, h)\n",
    "    ys = np.arange(y_min, y_max, h)\n",
    "    xx,yy = np.meshgrid(xs,ys)\n",
    "    \n",
    "    prediction_grid = np.zeros(xx.shape, dtype=int)\n",
    "    for i,x in enumerate(xs):\n",
    "        for j,y in enumerate(ys):\n",
    "            p = np.array([x,y])\n",
    "            prediction_grid[j,i] = knn_predict(p,predictors,outcomes,k)\n",
    "    return (xx,yy,prediction_grid)\n",
    "\n",
    "############################################################################\n",
    "\n",
    "def plot_prediction_grid (xx, yy, prediction_grid, filename):\n",
    "    \"\"\" Plot KNN predictions for every point on the grid.\"\"\"\n",
    "    from matplotlib.colors import ListedColormap\n",
    "    background_colormap = ListedColormap ([\"hotpink\",\"lightskyblue\", \"yellowgreen\"])\n",
    "    observation_colormap = ListedColormap ([\"red\",\"blue\",\"green\"])\n",
    "    plt.figure(figsize =(10,10))\n",
    "    plt.pcolormesh(xx, yy, prediction_grid, cmap = background_colormap, alpha = 0.5)\n",
    "    plt.scatter(predictors[:,0], predictors [:,1], c = outcomes, cmap = observation_colormap, s = 50)\n",
    "    plt.xlabel('Variable 1'); plt.ylabel('Variable 2')\n",
    "    plt.xticks(()); plt.yticks(())\n",
    "    plt.xlim (np.min(xx), np.max(xx))\n",
    "    plt.ylim (np.min(yy), np.max(yy))\n",
    "    plt.savefig(filename)\n",
    "    \n",
    "############################################################################\n"
   ]
  },
  {
   "cell_type": "markdown",
   "metadata": {},
   "source": [
    "### Exercise 1\n",
    "\n",
    "Our first step is to import the dataset.\n",
    "\n",
    "#### Instructions \n",
    "- Read in the data as a pandas dataframe using `pd.read_csv`. The data can be found at https://courses.edx.org/asset-v1:HarvardX+PH526x+2T2019+type@asset+block@wine.csv"
   ]
  },
  {
   "cell_type": "code",
   "execution_count": null,
   "metadata": {},
   "outputs": [],
   "source": [
    "import pandas as pd\n",
    "file = pd.read_csv('wine.csv', index_col=0)\n",
    "data = pd.DataFrame(file)\n",
    "data.head()\n",
    "\n",
    "#or use link directly\n",
    "# data = pd.read_csv(\"https://courses.edx.org/asset-v1:HarvardX+PH526x+2T2019+type@asset+block@data.csv\",\n",
    "#                  index_col=0)\n",
    "                  \n",
    "#data.head()"
   ]
  },
  {
   "cell_type": "markdown",
   "metadata": {},
   "source": [
    "### Exercise 2\n",
    "\n",
    "Next, we will inspect the dataset and perform some mild data cleaning.\n",
    "\n",
    "#### Instructions \n",
    "- In order to get all numeric data, we will change the `color` column to an `is_red` column. \n",
    "    - If `color == 'red'`, we will encode a `1` for `is_red`\n",
    "    - If `color == 'white'`, we will encode a `0` for `is_red`\n",
    "- Create this new column, `is_red`.\n",
    "- Drop the `color`, `quality`, and `high_quality` columns as we will be predict the quality of data using numeric data in a later exercise\n",
    "- Store this all numeric data in a pandas dataframe called `numeric_data`"
   ]
  },
  {
   "cell_type": "code",
   "execution_count": null,
   "metadata": {},
   "outputs": [],
   "source": [
    "# Method 1\n",
    "\n",
    "data['is_red'] = np.where(data['color']=='red', 1, 0)\n",
    "data.head()\n",
    "\n",
    "# Method 2\n",
    "# data.loc[data['color'] == 'red', 'is_red']= 1\n",
    "# data.loc[data['color'] != 'red', 'is_red']= 0\n",
    "# data.head()\n",
    "\n",
    "# Method 3\n",
    "# data[\"is_red\"] = (data[\"color\"] == \"red\").astype(int)\n",
    "# data\n",
    "\n",
    "numeric_data = data.drop([\"color\",\"quality\",\"high_quality\"], axis=1)\n",
    "numeric_data\n",
    "\n",
    "numeric_data.groupby('is_red').count()"
   ]
  },
  {
   "cell_type": "markdown",
   "metadata": {},
   "source": [
    "### Exercise 3\n",
    "\n",
    "We want to ensure that each variable contributes equally to the kNN classifier, so we will need to scale the data by subtracting the mean of each variable (column) and dividing each variable (column) by its standard deviation. Then, we will use principal components to take a linear snapshot of the data from several different angles, with each snapshot ordered by how well it aligns with variation in the data. In this exercise, we will scale the numeric data and extract the first two principal components.\n",
    "\n",
    "#### Instructions \n",
    "- Scale the data using the `sklearn.preprocessing` function `scale()` on `numeric_data`.\n",
    "- Convert this to a `pandas` dataframe, and store as `numeric_data`.\n",
    "    - Include the numeric variable names using the parameter `columns = numeric_data.columns`.\n",
    "- Use the `sklearn.decomposition` module `PCA()` and store it as `pca`.\n",
    "- Use the `fit_transform()` function to extract the first two principal components from the data, and store them as `principal_components`.\n",
    "- *Note*: You may get a `DataConversionWarning`, but you can safely ignore it"
   ]
  },
  {
   "cell_type": "code",
   "execution_count": null,
   "metadata": {},
   "outputs": [],
   "source": [
    "import sklearn.preprocessing\n",
    "scaled_data = sklearn.preprocessing.scale(numeric_data)\n",
    "numeric_data = pd.DataFrame(data=scaled_data,columns=numeric_data.columns)\n",
    "\n",
    "import sklearn.decomposition\n",
    "pca =sklearn.decomposition.PCA(n_components=2)\n",
    "principal_components = pca.fit_transform(numeric_data)"
   ]
  },
  {
   "cell_type": "markdown",
   "metadata": {},
   "source": [
    "### Exercise 4\n",
    "\n",
    "In this exercise, we will plot the first two principal components of the covariates in the dataset. The high and low quality wines will be colored using red and blue, respectively.\n",
    "\n",
    "#### Instructions \n",
    "- The first two principal components can be accessed using `principal_components[:,0]` and `principal_components[:,1]`. Store these as `x` and `y` respectively, and make a scatter plot of these first two principal components.\n",
    "- How well are the two groups of wines separated by the first two principal components?"
   ]
  },
  {
   "cell_type": "code",
   "execution_count": null,
   "metadata": {},
   "outputs": [],
   "source": [
    "import matplotlib.pyplot as plt\n",
    "from matplotlib.colors import ListedColormap\n",
    "from matplotlib.backends.backend_pdf import PdfPages\n",
    "observation_colormap = ListedColormap(['red', 'blue'])\n",
    "x = principal_components[:,0]\n",
    "y = principal_components[:,1]\n",
    "\n",
    "plt.title(\"Principal Components of Wine\")\n",
    "plt.scatter(x, y, alpha = 0.2,\n",
    "c = data['high_quality'], cmap = observation_colormap, edgecolors = 'none')\n",
    "plt.xlim(-8, 8); plt.ylim(-8, 8)\n",
    "plt.xlabel(\"Principal Component 1\")\n",
    "plt.ylabel(\"Principal Component 2\")\n",
    "plt.show()"
   ]
  },
  {
   "cell_type": "markdown",
   "metadata": {},
   "source": [
    "### Exercise 5\n",
    "\n",
    "In this exercise, we will create a function that calculates the accuracy between predictions and outcomes.\n",
    "\n",
    "#### Instructions\n",
    "- Create a function `accuracy(predictions, outcomes)` that takes two lists of the same size as arguments and returns a single number, which is the percentage of elements that are equal for the two lists.\n",
    "- Use accuracy to compare the percentage of similar elements in the `x` and `y` `numpy` arrays defined below.\n",
    "- Print your answer."
   ]
  },
  {
   "cell_type": "code",
   "execution_count": null,
   "metadata": {},
   "outputs": [],
   "source": [
    "import numpy as np \n",
    "np.random.seed(1) # do not change\n",
    "\n",
    "x = np.random.randint(0, 2, 1000)\n",
    "y = np.random.randint(0 ,2, 1000)\n",
    "\n",
    "def accuracy(predictions, outcomes):\n",
    "    return 100*np.mean(predictions == outcomes)\n",
    "\n",
    "print(accuracy(x,y))"
   ]
  },
  {
   "cell_type": "markdown",
   "metadata": {},
   "source": [
    "### Exercise 6\n",
    "\n",
    "The dataset remains stored as data. Because most wines in the dataset are classified as low quality, one very simple classification rule is to predict that all wines are of low quality. In this exercise, we determine the accuracy of this simple rule. \n",
    "\n",
    "#### Instructions\n",
    "- Use `accuracy()` to calculate how many wines in the dataset are of low quality. Do this by using 0 as the first argument, and `data[\"high_quality\"]` as the second argument.\n",
    "- Print your result."
   ]
  },
  {
   "cell_type": "code",
   "execution_count": null,
   "metadata": {},
   "outputs": [],
   "source": [
    "print(accuracy(0, data['high_quality']))\n"
   ]
  },
  {
   "cell_type": "markdown",
   "metadata": {},
   "source": [
    "### Exercise 7 \n",
    "\n",
    "In this exercise, we will use the kNN classifier from `scikit-learn` to predict the quality of wines in our dataset.\n",
    "\n",
    "#### Instructions\n",
    "- Use `knn.predict(numeric_data)` to predict which wines are high and low quality and store the result as `library_predictions`.\n",
    "- Use `accuracy` to find the accuracy of your predictions, using `library_predictions` as the first argument and `data[\"high_quality\"]` as the second argument.\n",
    "- Print your answer. Is this prediction better than the simple classifier in Exercise 6?"
   ]
  },
  {
   "cell_type": "code",
   "execution_count": null,
   "metadata": {},
   "outputs": [],
   "source": [
    "from sklearn.neighbors import KNeighborsClassifier\n",
    "knn = KNeighborsClassifier(n_neighbors = 5)\n",
    "knn.fit(numeric_data, data['high_quality'])\n",
    "library_predictions = knn.predict(numeric_data)\n",
    "accuracy (library_predictions, data['high_quality'])\n"
   ]
  },
  {
   "cell_type": "markdown",
   "metadata": {},
   "source": [
    "### Exercise 8\n",
    "\n",
    "Unlike the `scikit-learn` function, our homemade kNN classifier does not take any shortcuts in calculating which neighbors are closest to each observation, so it is likely too slow to carry out on the whole dataset. In this exercise, we will select a subset of our data to use in our homemade kNN classifier.\n",
    "\n",
    "#### Instructions \n",
    "- Fix the random generator using `random.seed(123)`, and select 10 rows from the dataset using `random.sample(range(n_rows), 10)`. Store this selection as `selection`."
   ]
  },
  {
   "cell_type": "code",
   "execution_count": null,
   "metadata": {},
   "outputs": [],
   "source": [
    "random.seed(123)\n",
    "n_rows = data.shape[0]\n",
    "selection = random.sample(range(n_rows), 10)\n",
    "print(selection)"
   ]
  },
  {
   "cell_type": "markdown",
   "metadata": {},
   "source": [
    "### Exercise 9\n",
    "\n",
    "We are now ready to use our homemade kNN classifier and compare the accuracy of our results to the baseline.\n",
    "\n",
    "#### Instructions \n",
    "- For each predictor` p` in `predictors[selection]`, use `knn_predict(p, predictors[training_indices,:], outcomes[training_indices], k=5)` to predict the quality of each wine in the prediction set, and store these predictions as a np.array called `my_predictions`. Note that knn_predict is already defined as in the Case 3 videos.\n",
    "- Using the `accuracy` function, compare these results to the selected rows from the `high_quality` variable in data using `my_predictions` as the first argument and `data.high_quality.iloc[selection]` as the second argument. Store these results as `percentage`.\n",
    "- Print your answer."
   ]
  },
  {
   "cell_type": "code",
   "execution_count": null,
   "metadata": {},
   "outputs": [],
   "source": [
    "predictors = np.array(numeric_data)\n",
    "training_indices = [i for i in range(len(predictors)) if i not in selection]\n",
    "outcomes = np.array(data[\"high_quality\"])\n",
    "p = predictors[selection]\n",
    "my_predictions = knn_predict(p, predictors[training_indices,:], outcomes[training_indices], k=5)\n",
    "percentage = accuracy(my_predictions, data.high_quality.iloc[selection])\n",
    "print(percentage)"
   ]
  }
 ],
 "metadata": {
  "kernelspec": {
   "display_name": "Python 3",
   "language": "python",
   "name": "python3"
  },
  "language_info": {
   "codemirror_mode": {
    "name": "ipython",
    "version": 3
   },
   "file_extension": ".py",
   "mimetype": "text/x-python",
   "name": "python",
   "nbconvert_exporter": "python",
   "pygments_lexer": "ipython3",
   "version": "3.9.2"
  },
  "toc": {
   "base_numbering": 1,
   "nav_menu": {},
   "number_sections": true,
   "sideBar": true,
   "skip_h1_title": false,
   "title_cell": "Table of Contents",
   "title_sidebar": "Contents",
   "toc_cell": false,
   "toc_position": {},
   "toc_section_display": true,
   "toc_window_display": false
  }
 },
 "nbformat": 4,
 "nbformat_minor": 4
}
